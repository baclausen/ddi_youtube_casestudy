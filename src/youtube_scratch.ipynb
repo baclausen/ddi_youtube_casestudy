{
 "cells": [
  {
   "cell_type": "markdown",
   "id": "5e9eb7cb",
   "metadata": {},
   "source": [
    "# Scratch Pad for Group EDA Case Study"
   ]
  },
  {
   "cell_type": "code",
   "execution_count": 2,
   "id": "a5568f8b",
   "metadata": {},
   "outputs": [],
   "source": [
    "import numpy as np\n",
    "import pandas as pd\n",
    "import seaborn as sns\n",
    "import matplotlib.pyplot as plt"
   ]
  },
  {
   "cell_type": "code",
   "execution_count": 3,
   "id": "b0581d0b",
   "metadata": {},
   "outputs": [],
   "source": [
    "# Import our data files\n",
    "df = pd.read_csv('ddi_youtube_casestudy/data/USvideos.csv')\n",
    "df_cat = pd.read_json('ddi_youtube_casestudy/data/US_category_id.json')"
   ]
  },
  {
   "cell_type": "code",
   "execution_count": 4,
   "id": "7c66285f",
   "metadata": {},
   "outputs": [],
   "source": [
    "# The json file holds a dictionary value that correlates to the category_id in our .csv, so we will extract those values\n",
    "df_two = pd.DataFrame(df_cat['items'].apply(lambda x: x['snippet']['title']).reset_index())"
   ]
  },
  {
   "cell_type": "code",
   "execution_count": 5,
   "id": "91bcad8e",
   "metadata": {},
   "outputs": [],
   "source": [
    "# Prep the .json data to be merged into the .csv dataframe\n",
    "df_two.rename(columns={'index': 'category_id'}, inplace=True)\n",
    "df = pd.merge(df, df_two)"
   ]
  },
  {
   "cell_type": "code",
   "execution_count": 6,
   "id": "c99c3b7c",
   "metadata": {},
   "outputs": [],
   "source": [
    "# Clean up by dropping unneeded columns and reorganizing the remaining columns logically\n",
    "df = df.drop(['video_id', 'thumbnail_link'], axis=1)\n",
    "df.rename(columns={'items': 'category'}, inplace=True)\n",
    "df = df[['title', 'channel_title', 'category_id', 'category', 'tags', 'description', 'publish_time', 'trending_date', 'views', 'likes', 'dislikes', 'comment_count', 'comments_disabled', 'ratings_disabled', 'video_error_or_removed']]"
   ]
  },
  {
   "cell_type": "code",
   "execution_count": 7,
   "id": "0cd9ea25",
   "metadata": {},
   "outputs": [],
   "source": [
    "# Provide uniformity among our date and time fields\n",
    "df.insert(loc=6, column='publish_date', value=pd.to_datetime(df['publish_time']).dt.date) # Create a column with just the publish day and place it in the proper spot in our dataframe\n",
    "df['publish_date'] = pd.to_datetime(df['publish_date'])                                   # Putting dt.date brought it back in as an object, so ensure it is converted to datetime\n",
    "df['publish_time'] = pd.to_datetime(df['publish_time']).dt.time                           # Convert this column to date time and extract the time\n",
    "df['trending_date'] = pd.to_datetime(df['trending_date'], format='%y.%d.%m')              # Convert this column to datetime in a normal YYYY-MM-DD format"
   ]
  },
  {
   "cell_type": "code",
   "execution_count": null,
   "id": "248348b2",
   "metadata": {},
   "outputs": [],
   "source": [
    "# The description column contains null values, so we will annotate where no description was available\n",
    "df['description'] = df['description'].fillna('No description available')\n",
    "df.insert(loc=9, column='days_before_viral', value=df['trending_date']-df['publish_date']).astype(int)  # Create a column to show how many days it took for a video to go viral"
   ]
  },
  {
   "cell_type": "code",
   "execution_count": null,
   "id": "26c49b19",
   "metadata": {},
   "outputs": [],
   "source": [
    "# Adding columns to display total engagements and engagement rate per number of views\n",
    "df.insert(loc=14, column='engagements', value=df['likes'] + df['dislikes'] + df['comment_count'])\n",
    "df.insert(loc=15, column='engagement_rate', value= df['engagements'] / df['views'])"
   ]
  }
 ],
 "metadata": {
  "kernelspec": {
   "display_name": "base",
   "language": "python",
   "name": "python3"
  },
  "language_info": {
   "codemirror_mode": {
    "name": "ipython",
    "version": 3
   },
   "file_extension": ".py",
   "mimetype": "text/x-python",
   "name": "python",
   "nbconvert_exporter": "python",
   "pygments_lexer": "ipython3",
   "version": "3.13.5"
  }
 },
 "nbformat": 4,
 "nbformat_minor": 5
}
